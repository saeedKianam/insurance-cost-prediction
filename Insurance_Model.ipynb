{
  "nbformat": 4,
  "nbformat_minor": 0,
  "metadata": {
    "colab": {
      "provenance": []
    },
    "kernelspec": {
      "name": "python3",
      "display_name": "Python 3"
    },
    "language_info": {
      "name": "python"
    }
  },
  "cells": [
    {
      "cell_type": "markdown",
      "source": [
        "دیتاست تمیز و پیش‌پردازش شده"
      ],
      "metadata": {
        "id": "urGM9YOH-x1V"
      }
    },
    {
      "cell_type": "code",
      "execution_count": null,
      "metadata": {
        "id": "RYBuOe6yO2x-"
      },
      "outputs": [],
      "source": [
        "import pandas as pd\n",
        "!gdown --id <1Np9nenPVV0LLlsE909X7F3PN4nMES3YV> --output cleaned_data.csv\n",
        "df_clean = pd.read_csv('cleaned_data.csv')"
      ]
    },
    {
      "cell_type": "code",
      "source": [
        "pd.set_option('display.max_columns', None)"
      ],
      "metadata": {
        "id": "oRQQE2VOO7Cy"
      },
      "execution_count": null,
      "outputs": []
    },
    {
      "cell_type": "code",
      "source": [
        "df_clean.head()"
      ],
      "metadata": {
        "colab": {
          "base_uri": "https://localhost:8080/",
          "height": 290
        },
        "id": "KphS9q6-PFGj",
        "outputId": "54bb84bd-600d-4843-b40a-c3861c59c15b"
      },
      "execution_count": null,
      "outputs": [
        {
          "output_type": "execute_result",
          "data": {
            "text/plain": [
              "   Row       Year RemittanceDate  BirthYear PersonnelCode  PlanName  \\\n",
              "0    2  1401-1402     1401-09-10       1363      461415.0         4   \n",
              "1    3  1401-1402     1401-09-13       1340      461421.0         4   \n",
              "2    4  1401-1402     1401-09-13       1340      461421.0         4   \n",
              "3    5  1401-1402     1401-09-13       1340      461421.0         4   \n",
              "4    6  1401-1402     1401-09-13       1340      461421.0         4   \n",
              "\n",
              "  DiseaseDate   ClaimDate                    DiseaseType  Z_Log_Reported  ...  \\\n",
              "0  1401-09-05  1401-09-06                    هزینه ویزیت       -0.593003  ...   \n",
              "1  1401-09-03  1401-09-11         سایر اعمال مجاز سرپایی        0.913197  ...   \n",
              "2  1401-09-03  1401-09-11  انواع آندوسکوپی و کولونوسکوپی        1.598488  ...   \n",
              "3  1401-09-03  1401-09-11                    هزینه ویزیت       -1.359214  ...   \n",
              "4  1401-09-03  1401-09-11                        تزریقات       -1.239765  ...   \n",
              "\n",
              "   Relation_0  Relation_1  Relation_2  Relation_3  Relation_4  Relation_5  \\\n",
              "0       False        True       False       False       False       False   \n",
              "1       False       False       False       False        True       False   \n",
              "2       False       False       False       False        True       False   \n",
              "3       False       False       False       False        True       False   \n",
              "4       False       False       False       False        True       False   \n",
              "\n",
              "   Age  Age_Standardized  PlanName_Standardized  DiseaseType_Encoded  \n",
              "0   41          0.246071               0.696407            -0.422600  \n",
              "1   64          1.472632               0.696407             0.341211  \n",
              "2   64          1.472632               0.696407             1.370494  \n",
              "3   64          1.472632               0.696407            -0.422600  \n",
              "4   64          1.472632               0.696407            -1.327007  \n",
              "\n",
              "[5 rows x 39 columns]"
            ],
            "text/html": [
              "\n",
              "  <div id=\"df-6af55ef4-c6f2-442f-9523-3d666e9c992b\" class=\"colab-df-container\">\n",
              "    <div>\n",
              "<style scoped>\n",
              "    .dataframe tbody tr th:only-of-type {\n",
              "        vertical-align: middle;\n",
              "    }\n",
              "\n",
              "    .dataframe tbody tr th {\n",
              "        vertical-align: top;\n",
              "    }\n",
              "\n",
              "    .dataframe thead th {\n",
              "        text-align: right;\n",
              "    }\n",
              "</style>\n",
              "<table border=\"1\" class=\"dataframe\">\n",
              "  <thead>\n",
              "    <tr style=\"text-align: right;\">\n",
              "      <th></th>\n",
              "      <th>Row</th>\n",
              "      <th>Year</th>\n",
              "      <th>RemittanceDate</th>\n",
              "      <th>BirthYear</th>\n",
              "      <th>PersonnelCode</th>\n",
              "      <th>PlanName</th>\n",
              "      <th>DiseaseDate</th>\n",
              "      <th>ClaimDate</th>\n",
              "      <th>DiseaseType</th>\n",
              "      <th>Z_Log_Reported</th>\n",
              "      <th>...</th>\n",
              "      <th>Relation_0</th>\n",
              "      <th>Relation_1</th>\n",
              "      <th>Relation_2</th>\n",
              "      <th>Relation_3</th>\n",
              "      <th>Relation_4</th>\n",
              "      <th>Relation_5</th>\n",
              "      <th>Age</th>\n",
              "      <th>Age_Standardized</th>\n",
              "      <th>PlanName_Standardized</th>\n",
              "      <th>DiseaseType_Encoded</th>\n",
              "    </tr>\n",
              "  </thead>\n",
              "  <tbody>\n",
              "    <tr>\n",
              "      <th>0</th>\n",
              "      <td>2</td>\n",
              "      <td>1401-1402</td>\n",
              "      <td>1401-09-10</td>\n",
              "      <td>1363</td>\n",
              "      <td>461415.0</td>\n",
              "      <td>4</td>\n",
              "      <td>1401-09-05</td>\n",
              "      <td>1401-09-06</td>\n",
              "      <td>هزینه ویزیت</td>\n",
              "      <td>-0.593003</td>\n",
              "      <td>...</td>\n",
              "      <td>False</td>\n",
              "      <td>True</td>\n",
              "      <td>False</td>\n",
              "      <td>False</td>\n",
              "      <td>False</td>\n",
              "      <td>False</td>\n",
              "      <td>41</td>\n",
              "      <td>0.246071</td>\n",
              "      <td>0.696407</td>\n",
              "      <td>-0.422600</td>\n",
              "    </tr>\n",
              "    <tr>\n",
              "      <th>1</th>\n",
              "      <td>3</td>\n",
              "      <td>1401-1402</td>\n",
              "      <td>1401-09-13</td>\n",
              "      <td>1340</td>\n",
              "      <td>461421.0</td>\n",
              "      <td>4</td>\n",
              "      <td>1401-09-03</td>\n",
              "      <td>1401-09-11</td>\n",
              "      <td>سایر اعمال مجاز سرپایی</td>\n",
              "      <td>0.913197</td>\n",
              "      <td>...</td>\n",
              "      <td>False</td>\n",
              "      <td>False</td>\n",
              "      <td>False</td>\n",
              "      <td>False</td>\n",
              "      <td>True</td>\n",
              "      <td>False</td>\n",
              "      <td>64</td>\n",
              "      <td>1.472632</td>\n",
              "      <td>0.696407</td>\n",
              "      <td>0.341211</td>\n",
              "    </tr>\n",
              "    <tr>\n",
              "      <th>2</th>\n",
              "      <td>4</td>\n",
              "      <td>1401-1402</td>\n",
              "      <td>1401-09-13</td>\n",
              "      <td>1340</td>\n",
              "      <td>461421.0</td>\n",
              "      <td>4</td>\n",
              "      <td>1401-09-03</td>\n",
              "      <td>1401-09-11</td>\n",
              "      <td>انواع آندوسکوپی و کولونوسکوپی</td>\n",
              "      <td>1.598488</td>\n",
              "      <td>...</td>\n",
              "      <td>False</td>\n",
              "      <td>False</td>\n",
              "      <td>False</td>\n",
              "      <td>False</td>\n",
              "      <td>True</td>\n",
              "      <td>False</td>\n",
              "      <td>64</td>\n",
              "      <td>1.472632</td>\n",
              "      <td>0.696407</td>\n",
              "      <td>1.370494</td>\n",
              "    </tr>\n",
              "    <tr>\n",
              "      <th>3</th>\n",
              "      <td>5</td>\n",
              "      <td>1401-1402</td>\n",
              "      <td>1401-09-13</td>\n",
              "      <td>1340</td>\n",
              "      <td>461421.0</td>\n",
              "      <td>4</td>\n",
              "      <td>1401-09-03</td>\n",
              "      <td>1401-09-11</td>\n",
              "      <td>هزینه ویزیت</td>\n",
              "      <td>-1.359214</td>\n",
              "      <td>...</td>\n",
              "      <td>False</td>\n",
              "      <td>False</td>\n",
              "      <td>False</td>\n",
              "      <td>False</td>\n",
              "      <td>True</td>\n",
              "      <td>False</td>\n",
              "      <td>64</td>\n",
              "      <td>1.472632</td>\n",
              "      <td>0.696407</td>\n",
              "      <td>-0.422600</td>\n",
              "    </tr>\n",
              "    <tr>\n",
              "      <th>4</th>\n",
              "      <td>6</td>\n",
              "      <td>1401-1402</td>\n",
              "      <td>1401-09-13</td>\n",
              "      <td>1340</td>\n",
              "      <td>461421.0</td>\n",
              "      <td>4</td>\n",
              "      <td>1401-09-03</td>\n",
              "      <td>1401-09-11</td>\n",
              "      <td>تزریقات</td>\n",
              "      <td>-1.239765</td>\n",
              "      <td>...</td>\n",
              "      <td>False</td>\n",
              "      <td>False</td>\n",
              "      <td>False</td>\n",
              "      <td>False</td>\n",
              "      <td>True</td>\n",
              "      <td>False</td>\n",
              "      <td>64</td>\n",
              "      <td>1.472632</td>\n",
              "      <td>0.696407</td>\n",
              "      <td>-1.327007</td>\n",
              "    </tr>\n",
              "  </tbody>\n",
              "</table>\n",
              "<p>5 rows × 39 columns</p>\n",
              "</div>\n",
              "    <div class=\"colab-df-buttons\">\n",
              "\n",
              "  <div class=\"colab-df-container\">\n",
              "    <button class=\"colab-df-convert\" onclick=\"convertToInteractive('df-6af55ef4-c6f2-442f-9523-3d666e9c992b')\"\n",
              "            title=\"Convert this dataframe to an interactive table.\"\n",
              "            style=\"display:none;\">\n",
              "\n",
              "  <svg xmlns=\"http://www.w3.org/2000/svg\" height=\"24px\" viewBox=\"0 -960 960 960\">\n",
              "    <path d=\"M120-120v-720h720v720H120Zm60-500h600v-160H180v160Zm220 220h160v-160H400v160Zm0 220h160v-160H400v160ZM180-400h160v-160H180v160Zm440 0h160v-160H620v160ZM180-180h160v-160H180v160Zm440 0h160v-160H620v160Z\"/>\n",
              "  </svg>\n",
              "    </button>\n",
              "\n",
              "  <style>\n",
              "    .colab-df-container {\n",
              "      display:flex;\n",
              "      gap: 12px;\n",
              "    }\n",
              "\n",
              "    .colab-df-convert {\n",
              "      background-color: #E8F0FE;\n",
              "      border: none;\n",
              "      border-radius: 50%;\n",
              "      cursor: pointer;\n",
              "      display: none;\n",
              "      fill: #1967D2;\n",
              "      height: 32px;\n",
              "      padding: 0 0 0 0;\n",
              "      width: 32px;\n",
              "    }\n",
              "\n",
              "    .colab-df-convert:hover {\n",
              "      background-color: #E2EBFA;\n",
              "      box-shadow: 0px 1px 2px rgba(60, 64, 67, 0.3), 0px 1px 3px 1px rgba(60, 64, 67, 0.15);\n",
              "      fill: #174EA6;\n",
              "    }\n",
              "\n",
              "    .colab-df-buttons div {\n",
              "      margin-bottom: 4px;\n",
              "    }\n",
              "\n",
              "    [theme=dark] .colab-df-convert {\n",
              "      background-color: #3B4455;\n",
              "      fill: #D2E3FC;\n",
              "    }\n",
              "\n",
              "    [theme=dark] .colab-df-convert:hover {\n",
              "      background-color: #434B5C;\n",
              "      box-shadow: 0px 1px 3px 1px rgba(0, 0, 0, 0.15);\n",
              "      filter: drop-shadow(0px 1px 2px rgba(0, 0, 0, 0.3));\n",
              "      fill: #FFFFFF;\n",
              "    }\n",
              "  </style>\n",
              "\n",
              "    <script>\n",
              "      const buttonEl =\n",
              "        document.querySelector('#df-6af55ef4-c6f2-442f-9523-3d666e9c992b button.colab-df-convert');\n",
              "      buttonEl.style.display =\n",
              "        google.colab.kernel.accessAllowed ? 'block' : 'none';\n",
              "\n",
              "      async function convertToInteractive(key) {\n",
              "        const element = document.querySelector('#df-6af55ef4-c6f2-442f-9523-3d666e9c992b');\n",
              "        const dataTable =\n",
              "          await google.colab.kernel.invokeFunction('convertToInteractive',\n",
              "                                                    [key], {});\n",
              "        if (!dataTable) return;\n",
              "\n",
              "        const docLinkHtml = 'Like what you see? Visit the ' +\n",
              "          '<a target=\"_blank\" href=https://colab.research.google.com/notebooks/data_table.ipynb>data table notebook</a>'\n",
              "          + ' to learn more about interactive tables.';\n",
              "        element.innerHTML = '';\n",
              "        dataTable['output_type'] = 'display_data';\n",
              "        await google.colab.output.renderOutput(dataTable, element);\n",
              "        const docLink = document.createElement('div');\n",
              "        docLink.innerHTML = docLinkHtml;\n",
              "        element.appendChild(docLink);\n",
              "      }\n",
              "    </script>\n",
              "  </div>\n",
              "\n",
              "\n",
              "<div id=\"df-3876826f-3bf9-45f5-8b79-b18316cf16c8\">\n",
              "  <button class=\"colab-df-quickchart\" onclick=\"quickchart('df-3876826f-3bf9-45f5-8b79-b18316cf16c8')\"\n",
              "            title=\"Suggest charts\"\n",
              "            style=\"display:none;\">\n",
              "\n",
              "<svg xmlns=\"http://www.w3.org/2000/svg\" height=\"24px\"viewBox=\"0 0 24 24\"\n",
              "     width=\"24px\">\n",
              "    <g>\n",
              "        <path d=\"M19 3H5c-1.1 0-2 .9-2 2v14c0 1.1.9 2 2 2h14c1.1 0 2-.9 2-2V5c0-1.1-.9-2-2-2zM9 17H7v-7h2v7zm4 0h-2V7h2v10zm4 0h-2v-4h2v4z\"/>\n",
              "    </g>\n",
              "</svg>\n",
              "  </button>\n",
              "\n",
              "<style>\n",
              "  .colab-df-quickchart {\n",
              "      --bg-color: #E8F0FE;\n",
              "      --fill-color: #1967D2;\n",
              "      --hover-bg-color: #E2EBFA;\n",
              "      --hover-fill-color: #174EA6;\n",
              "      --disabled-fill-color: #AAA;\n",
              "      --disabled-bg-color: #DDD;\n",
              "  }\n",
              "\n",
              "  [theme=dark] .colab-df-quickchart {\n",
              "      --bg-color: #3B4455;\n",
              "      --fill-color: #D2E3FC;\n",
              "      --hover-bg-color: #434B5C;\n",
              "      --hover-fill-color: #FFFFFF;\n",
              "      --disabled-bg-color: #3B4455;\n",
              "      --disabled-fill-color: #666;\n",
              "  }\n",
              "\n",
              "  .colab-df-quickchart {\n",
              "    background-color: var(--bg-color);\n",
              "    border: none;\n",
              "    border-radius: 50%;\n",
              "    cursor: pointer;\n",
              "    display: none;\n",
              "    fill: var(--fill-color);\n",
              "    height: 32px;\n",
              "    padding: 0;\n",
              "    width: 32px;\n",
              "  }\n",
              "\n",
              "  .colab-df-quickchart:hover {\n",
              "    background-color: var(--hover-bg-color);\n",
              "    box-shadow: 0 1px 2px rgba(60, 64, 67, 0.3), 0 1px 3px 1px rgba(60, 64, 67, 0.15);\n",
              "    fill: var(--button-hover-fill-color);\n",
              "  }\n",
              "\n",
              "  .colab-df-quickchart-complete:disabled,\n",
              "  .colab-df-quickchart-complete:disabled:hover {\n",
              "    background-color: var(--disabled-bg-color);\n",
              "    fill: var(--disabled-fill-color);\n",
              "    box-shadow: none;\n",
              "  }\n",
              "\n",
              "  .colab-df-spinner {\n",
              "    border: 2px solid var(--fill-color);\n",
              "    border-color: transparent;\n",
              "    border-bottom-color: var(--fill-color);\n",
              "    animation:\n",
              "      spin 1s steps(1) infinite;\n",
              "  }\n",
              "\n",
              "  @keyframes spin {\n",
              "    0% {\n",
              "      border-color: transparent;\n",
              "      border-bottom-color: var(--fill-color);\n",
              "      border-left-color: var(--fill-color);\n",
              "    }\n",
              "    20% {\n",
              "      border-color: transparent;\n",
              "      border-left-color: var(--fill-color);\n",
              "      border-top-color: var(--fill-color);\n",
              "    }\n",
              "    30% {\n",
              "      border-color: transparent;\n",
              "      border-left-color: var(--fill-color);\n",
              "      border-top-color: var(--fill-color);\n",
              "      border-right-color: var(--fill-color);\n",
              "    }\n",
              "    40% {\n",
              "      border-color: transparent;\n",
              "      border-right-color: var(--fill-color);\n",
              "      border-top-color: var(--fill-color);\n",
              "    }\n",
              "    60% {\n",
              "      border-color: transparent;\n",
              "      border-right-color: var(--fill-color);\n",
              "    }\n",
              "    80% {\n",
              "      border-color: transparent;\n",
              "      border-right-color: var(--fill-color);\n",
              "      border-bottom-color: var(--fill-color);\n",
              "    }\n",
              "    90% {\n",
              "      border-color: transparent;\n",
              "      border-bottom-color: var(--fill-color);\n",
              "    }\n",
              "  }\n",
              "</style>\n",
              "\n",
              "  <script>\n",
              "    async function quickchart(key) {\n",
              "      const quickchartButtonEl =\n",
              "        document.querySelector('#' + key + ' button');\n",
              "      quickchartButtonEl.disabled = true;  // To prevent multiple clicks.\n",
              "      quickchartButtonEl.classList.add('colab-df-spinner');\n",
              "      try {\n",
              "        const charts = await google.colab.kernel.invokeFunction(\n",
              "            'suggestCharts', [key], {});\n",
              "      } catch (error) {\n",
              "        console.error('Error during call to suggestCharts:', error);\n",
              "      }\n",
              "      quickchartButtonEl.classList.remove('colab-df-spinner');\n",
              "      quickchartButtonEl.classList.add('colab-df-quickchart-complete');\n",
              "    }\n",
              "    (() => {\n",
              "      let quickchartButtonEl =\n",
              "        document.querySelector('#df-3876826f-3bf9-45f5-8b79-b18316cf16c8 button');\n",
              "      quickchartButtonEl.style.display =\n",
              "        google.colab.kernel.accessAllowed ? 'block' : 'none';\n",
              "    })();\n",
              "  </script>\n",
              "</div>\n",
              "\n",
              "    </div>\n",
              "  </div>\n"
            ],
            "application/vnd.google.colaboratory.intrinsic+json": {
              "type": "dataframe",
              "variable_name": "df_clean"
            }
          },
          "metadata": {},
          "execution_count": 6
        }
      ]
    },
    {
      "cell_type": "markdown",
      "source": [
        "**از روی ستون «سال» سال پرداخت رو استخراج میکنم**"
      ],
      "metadata": {
        "id": "dqtFWjFOzPDF"
      }
    },
    {
      "cell_type": "code",
      "source": [
        "def extract_first_year(year_range):\n",
        "    if isinstance(year_range, str):\n",
        "        return year_range.split('-')[0]\n",
        "    return year_range\n",
        "\n",
        "df_clean['FirstYear'] = df_clean['Year'].apply(extract_first_year)"
      ],
      "metadata": {
        "id": "ZBgRGd8jYmGb"
      },
      "execution_count": null,
      "outputs": []
    },
    {
      "cell_type": "code",
      "source": [
        "# استاندارد کردن ستون سال\n",
        "\n",
        "from sklearn.preprocessing import StandardScaler\n",
        "\n",
        "scaler = StandardScaler()\n",
        "\n",
        "df_clean['FirstYear_Standardized'] = scaler.fit_transform(df_clean[['FirstYear']])"
      ],
      "metadata": {
        "id": "eWN3gp8vZgfm"
      },
      "execution_count": null,
      "outputs": []
    },
    {
      "cell_type": "markdown",
      "source": [
        "**رگرسیون خطی ساده**"
      ],
      "metadata": {
        "id": "B7eSpW7FUsf4"
      }
    },
    {
      "cell_type": "code",
      "source": [
        "import pandas as pd\n",
        "from sklearn.model_selection import train_test_split\n",
        "from sklearn.linear_model import LinearRegression\n",
        "from sklearn.metrics import mean_squared_error, r2_score\n",
        "\n",
        "# ویژگی‌ها\n",
        "features = ['Z_Log_Reported', 'DiseaseType_Encoded',\n",
        "            'Age_Standardized', 'PlanName_Standardized', 'FirstYear_Standardized']\n",
        "features += [col for col in df_clean.columns if col.startswith('DiseaseGroup_') or col.startswith('Relation_') or col.startswith('Company_') or col.startswith('DocumentDeliveryType_')]\n",
        "\n",
        "X = df_clean[features]\n",
        "y = df_clean['Z_log_Paid']\n",
        "\n",
        "# تقسیم داده‌ها\n",
        "X_train, X_test, y_train, y_test = train_test_split(X, y, test_size=0.2, random_state=42)\n",
        "\n",
        "# ساخت و فیت مدل\n",
        "model = LinearRegression()\n",
        "model.fit(X_train, y_train)\n",
        "\n",
        "# پیش‌بینی و ارزیابی\n",
        "y_pred = model.predict(X_test)\n",
        "mse = mean_squared_error(y_test, y_pred)\n",
        "r2 = r2_score(y_test, y_pred)\n",
        "y_train_pred = model.predict(X_train)\n",
        "r2_train = r2_score(y_train, y_train_pred)\n",
        "\n",
        "print(f\"Mean squared error: {mse}\")\n",
        "print(f\"Model accuracy (R²) on training data: {r2_train}\")\n",
        "print(f\"Model accuracy (R²): {r2}\")"
      ],
      "metadata": {
        "colab": {
          "base_uri": "https://localhost:8080/"
        },
        "id": "rjky5JCmPJr6",
        "outputId": "7754f9f0-a5d6-4f02-d148-e9a76615d986"
      },
      "execution_count": null,
      "outputs": [
        {
          "output_type": "stream",
          "name": "stdout",
          "text": [
            "Mean squared error: 0.059309479440667126\n",
            "Model accuracy (R²) on training data: 0.9367031490249446\n",
            "Model accuracy (R²): 0.9376751360590935\n"
          ]
        }
      ]
    },
    {
      "cell_type": "markdown",
      "source": [
        "**رگرسیون  پولینومیال درجه 2**"
      ],
      "metadata": {
        "id": "O5B3ijHLUv9i"
      }
    },
    {
      "cell_type": "code",
      "source": [
        "import pandas as pd\n",
        "from sklearn.model_selection import train_test_split\n",
        "from sklearn.linear_model import LinearRegression\n",
        "from sklearn.preprocessing import PolynomialFeatures\n",
        "from sklearn.metrics import mean_squared_error, r2_score\n",
        "\n",
        "features = ['Z_Log_Reported', 'DiseaseType_Encoded',\n",
        "            'Age_Standardized', 'PlanName_Standardized', 'FirstYear_Standardized']\n",
        "features += [col for col in df_clean.columns if col.startswith('DiseaseGroup_') or col.startswith('Relation_') or col.startswith('Company_') or col.startswith('DocumentDeliveryType_')]\n",
        "\n",
        "X = df_clean[features]\n",
        "y = df_clean['Z_log_Paid']\n",
        "\n",
        "# تبدیل داده‌ها به چندجمله‌ای (درجه 2)\n",
        "poly = PolynomialFeatures(degree=2, include_bias=False)\n",
        "X_poly = poly.fit_transform(X)\n",
        "\n",
        "X_train, X_test, y_train, y_test = train_test_split(X_poly, y, test_size=0.2, random_state=42)\n",
        "\n",
        "model = LinearRegression()\n",
        "model.fit(X_train, y_train)\n",
        "\n",
        "# پیش‌بینی و ارزیابی\n",
        "y_pred = model.predict(X_test)\n",
        "mse = mean_squared_error(y_test, y_pred)\n",
        "r2 = r2_score(y_test, y_pred)\n",
        "y_train_pred = model.predict(X_train)\n",
        "r2_train = r2_score(y_train, y_train_pred)\n",
        "\n",
        "print(f\"Mean squared error: {mse}\")\n",
        "print(f\"Model accuracy (R²) on training data: {r2_train}\")\n",
        "print(f\"Model accuracy (R²): {r2}\")"
      ],
      "metadata": {
        "colab": {
          "base_uri": "https://localhost:8080/"
        },
        "id": "Lf5_8nerPcLY",
        "outputId": "31568faa-c959-4f42-e76a-b0f4d92654f3"
      },
      "execution_count": null,
      "outputs": [
        {
          "output_type": "stream",
          "name": "stdout",
          "text": [
            "Mean squared error: 0.038477567322497574\n",
            "Model accuracy (R²) on training data: 0.9596888388972263\n",
            "Model accuracy (R²): 0.9595661743996458\n"
          ]
        }
      ]
    },
    {
      "cell_type": "markdown",
      "source": [
        "**جنگل تصادفی**"
      ],
      "metadata": {
        "id": "ayr_N5ZLU1Cn"
      }
    },
    {
      "cell_type": "code",
      "source": [
        "from sklearn.model_selection import train_test_split\n",
        "from sklearn.ensemble import RandomForestRegressor\n",
        "from sklearn.metrics import mean_squared_error, r2_score\n",
        "\n",
        "features = ['Z_Log_Reported', 'DiseaseType_Encoded',\n",
        "            'Age_Standardized', 'PlanName_Standardized', 'FirstYear_Standardized']\n",
        "features += [col for col in df_clean.columns if col.startswith('DiseaseGroup_') or col.startswith('Relation_') or col.startswith('Company_') or col.startswith('DocumentDeliveryType_')]\n",
        "\n",
        "X = df_clean[features]\n",
        "y = df_clean['Z_log_Paid']\n",
        "\n",
        "# تقسیم داده‌ها\n",
        "X_train, X_test, y_train, y_test = train_test_split(X, y, test_size=0.2, random_state=42)\n",
        "\n",
        "# مدل Random Forest\n",
        "model = RandomForestRegressor(n_estimators=200, max_depth=11, random_state=42)\n",
        "model.fit(X_train, y_train)\n",
        "\n",
        "# پیش‌بینی و ارزیابی\n",
        "y_pred = model.predict(X_test)\n",
        "mse = mean_squared_error(y_test, y_pred)\n",
        "r2 = r2_score(y_test, y_pred)\n",
        "y_train_pred = model.predict(X_train)\n",
        "r2_train = r2_score(y_train, y_train_pred)\n",
        "\n",
        "print(f\"Mean squared error: {mse}\")\n",
        "print(f\"Model accuracy (R²) on training data: {r2_train}\")\n",
        "print(f\"Model accuracy (R²): {r2}\")"
      ],
      "metadata": {
        "colab": {
          "base_uri": "https://localhost:8080/"
        },
        "id": "sF4yJ2xWPk91",
        "outputId": "8a314adc-4018-4493-b42c-fadc0374699c"
      },
      "execution_count": null,
      "outputs": [
        {
          "output_type": "stream",
          "name": "stdout",
          "text": [
            "Mean squared error: 0.028131521018079704\n",
            "Model accuracy (R²) on training data: 0.9748600635754799\n",
            "Model accuracy (R²): 0.9704382294965755\n"
          ]
        }
      ]
    },
    {
      "cell_type": "markdown",
      "source": [
        "**XGBOOST**"
      ],
      "metadata": {
        "id": "Fpcw0r1bU6EH"
      }
    },
    {
      "cell_type": "code",
      "source": [
        "from sklearn.model_selection import train_test_split\n",
        "from xgboost import XGBRegressor\n",
        "from sklearn.metrics import mean_squared_error, r2_score\n",
        "\n",
        "# ویژگی‌ها\n",
        "features = ['Z_Log_Reported', 'DiseaseType_Encoded',\n",
        "            'Age_Standardized', 'PlanName_Standardized', 'FirstYear_Standardized']\n",
        "features += [col for col in df_clean.columns if col.startswith('DiseaseGroup_') or col.startswith('Relation_') or col.startswith('Company_') or col.startswith('DocumentDeliveryType_')]\n",
        "\n",
        "X = df_clean[features]\n",
        "y = df_clean['Z_log_Paid']\n",
        "\n",
        "# تقسیم داده‌ها\n",
        "X_train, X_test, y_train, y_test = train_test_split(X, y, test_size=0.15, random_state=42)\n",
        "\n",
        "# مدل XGBoost\n",
        "model = XGBRegressor(\n",
        "    n_estimators=240,\n",
        "    max_depth=11,\n",
        "    learning_rate=0.1,\n",
        "    subsample=0.9,\n",
        "    colsample_bytree=0.9,\n",
        "    early_stopping_rounds=20,\n",
        "    random_state=42\n",
        ")\n",
        "\n",
        "model.fit(\n",
        "    X_train, y_train,\n",
        "    eval_set=[(X_test, y_test)],\n",
        "    verbose=False\n",
        ")\n",
        "\n",
        "# پیش‌بینی و ارزیابی\n",
        "y_pred = model.predict(X_test)\n",
        "mse = mean_squared_error(y_test, y_pred)\n",
        "r2 = r2_score(y_test, y_pred)\n",
        "y_train_pred = model.predict(X_train)\n",
        "r2_train = r2_score(y_train, y_train_pred)\n",
        "\n",
        "print(f\"Mean squared error: {mse}\")\n",
        "print(f\"Model accuracy (R²) on training data: {r2_train}\")\n",
        "print(f\"Model accuracy (R²): {r2}\")"
      ],
      "metadata": {
        "colab": {
          "base_uri": "https://localhost:8080/"
        },
        "id": "rqIiMhOzRJsZ",
        "outputId": "7df8e3e6-bbc0-4444-e501-b4892488c1a9"
      },
      "execution_count": null,
      "outputs": [
        {
          "output_type": "stream",
          "name": "stdout",
          "text": [
            "Mean squared error: 0.027015214676658506\n",
            "Model accuracy (R²) on training data: 0.9807955737442162\n",
            "Model accuracy (R²): 0.9716412415175868\n"
          ]
        }
      ]
    },
    {
      "cell_type": "code",
      "source": [
        "from sklearn.model_selection import cross_val_score, KFold\n",
        "import numpy as np\n",
        "from xgboost import XGBRegressor\n",
        "\n",
        "# Assuming X and y are already defined\n",
        "\n",
        "# Create a KFold object for cross-validation\n",
        "kf = KFold(n_splits=5, shuffle=True, random_state=42)\n",
        "\n",
        "# Define the XGBoost model without early stopping for cross-validation\n",
        "model = XGBRegressor(\n",
        "    n_estimators=300,\n",
        "    max_depth=10,\n",
        "    learning_rate=0.05,\n",
        "    subsample=0.9,\n",
        "    colsample_bytree=0.9,\n",
        "    # Remove early_stopping_rounds for cross-validation\n",
        "    random_state=42\n",
        ")\n",
        "\n",
        "# Perform cross-validation\n",
        "scores = cross_val_score(model, X, y, scoring='r2', cv=kf, n_jobs=-1)\n",
        "\n",
        "print(\"R² for each fold:\", scores)\n",
        "print(\"Average R²:\", np.mean(scores))"
      ],
      "metadata": {
        "id": "6OYuHPpd8fmY",
        "colab": {
          "base_uri": "https://localhost:8080/"
        },
        "outputId": "b2128dbe-1c17-4287-dc4e-539d63df8578"
      },
      "execution_count": null,
      "outputs": [
        {
          "output_type": "stream",
          "name": "stdout",
          "text": [
            "R² for each fold: [0.97103032 0.97059012 0.97086534 0.97070658 0.97105392]\n",
            "Average R²: 0.9708492553819221\n"
          ]
        }
      ]
    },
    {
      "cell_type": "markdown",
      "source": [
        "**بررسی کراس‌ولیدیشن روی مدل تا ببینیم دچار اورفیت نشده باشد**"
      ],
      "metadata": {
        "id": "i2GlXgd6dFJv"
      }
    },
    {
      "cell_type": "code",
      "source": [
        "from sklearn.model_selection import cross_val_score, KFold\n",
        "import numpy as np\n",
        "\n",
        "kf = KFold(n_splits=5, shuffle=True, random_state=42)\n",
        "\n",
        "model = XGBRegressor(\n",
        "    n_estimators=240,\n",
        "    max_depth=11,\n",
        "    learning_rate=0.1,\n",
        "    subsample=0.9,\n",
        "    colsample_bytree=0.9,\n",
        "    random_state=42\n",
        ")\n",
        "\n",
        "r2_scores = cross_val_score(model, X, y, cv=kf, scoring='r2', n_jobs=-1)\n",
        "\n",
        "print(f\"Cross-Validation with R² average: {np.mean(r2_scores):.4f}\")\n",
        "print(f\"Cross-Validation with R² standard deviation: {np.std(r2_scores):.4f}\")"
      ],
      "metadata": {
        "colab": {
          "base_uri": "https://localhost:8080/"
        },
        "id": "7zE4PepAcA2Q",
        "outputId": "f90dfc62-3e85-4581-f8b0-a995363a53d9"
      },
      "execution_count": null,
      "outputs": [
        {
          "output_type": "stream",
          "name": "stdout",
          "text": [
            "Cross-Validation with R² average: 0.9702\n",
            "Cross-Validation with R² standard deviation: 0.0002\n"
          ]
        }
      ]
    },
    {
      "cell_type": "markdown",
      "source": [
        "**چون میانگین کراس ولیدیشن نزدیک به دقت مدل است پس اورفیتی وجود ندارد**"
      ],
      "metadata": {
        "id": "fithcN_HdNzr"
      }
    }
  ]
}
